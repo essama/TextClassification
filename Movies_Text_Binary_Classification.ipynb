{
 "cells": [
  {
   "cell_type": "code",
   "execution_count": 2,
   "metadata": {},
   "outputs": [
    {
     "name": "stdout",
     "output_type": "stream",
     "text": [
      "1.10.0\n"
     ]
    }
   ],
   "source": [
    "from __future__ import absolute_import, division, print_function\n",
    "\n",
    "import tensorflow as tf\n",
    "from tensorflow import keras\n",
    "\n",
    "import numpy as np\n",
    "\n",
    "print(tf.__version__)"
   ]
  },
  {
   "cell_type": "code",
   "execution_count": 3,
   "metadata": {},
   "outputs": [
    {
     "name": "stdout",
     "output_type": "stream",
     "text": [
      "Downloading data from https://storage.googleapis.com/tensorflow/tf-keras-datasets/imdb.npz\n",
      "17465344/17464789 [==============================] - 5s 0us/step\n",
      "17473536/17464789 [==============================] - 5s 0us/step\n"
     ]
    }
   ],
   "source": [
    "imdb = keras.datasets.imdb\n",
    "\n",
    "(train_data, train_labels), (test_data, test_labels) = imdb.load_data(num_words=10000)"
   ]
  },
  {
   "cell_type": "code",
   "execution_count": 4,
   "metadata": {},
   "outputs": [
    {
     "name": "stdout",
     "output_type": "stream",
     "text": [
      "Training entries: 25000, labels: 25000\n"
     ]
    }
   ],
   "source": [
    "print(\"Training entries: {}, labels: {}\".format(len(train_data), len(train_labels)))"
   ]
  },
  {
   "cell_type": "code",
   "execution_count": 12,
   "metadata": {},
   "outputs": [
    {
     "name": "stdout",
     "output_type": "stream",
     "text": [
      "550\n"
     ]
    }
   ],
   "source": [
    "print(len(train_data[3]))"
   ]
  },
  {
   "cell_type": "code",
   "execution_count": 27,
   "metadata": {},
   "outputs": [
    {
     "data": {
      "text/plain": [
       "u\"<START> this film was just brilliant casting location scenery story direction everyone's really suited the part they played and you could just imagine being there robert <UNK> is an amazing actor and now the same being director <UNK> father came from the same scottish island as myself so i loved the fact there was a real connection with this film the witty remarks throughout the film were great it was just brilliant so much that i bought the film as soon as it was released for <UNK> and would recommend it to everyone to watch and the fly fishing was amazing really cried at the end it was so sad and you know what they say if you cry at a film it must have been good and this definitely was also <UNK> to the two little boy's that played the <UNK> of norman and paul they were just brilliant children are often left out of the <UNK> list i think because the stars that play them all grown up are such a big profile for the whole film but these children are amazing and should be praised for what they have done don't you think the whole story was so lovely because it was true and was someone's life after all that was shared with us all\""
      ]
     },
     "execution_count": 27,
     "metadata": {},
     "output_type": "execute_result"
    }
   ],
   "source": [
    "# A dictionary mapping words to an integer index\n",
    "word_index = imdb.get_word_index()\n",
    "word_index = {k:(v+3) for k,v in word_index.items()} \n",
    "word_index[\"<PAD>\"] = 0\n",
    "word_index[\"<START>\"] = 1\n",
    "word_index[\"<UNK>\"] = 2  # unknown\n",
    "word_index[\"<UNUSED>\"] = 3\n",
    "\n",
    "word_index\n",
    "reverse_word_index = dict([(value, key) for (key, value) in word_index.items()])\n",
    "\n",
    "def decode_review(text):\n",
    "    return ' '.join([reverse_word_index.get(i, '?') for i in text])\n",
    "\n",
    "decode_review(train_data[0])\n"
   ]
  },
  {
   "cell_type": "code",
   "execution_count": 29,
   "metadata": {},
   "outputs": [],
   "source": [
    "train_data = keras.preprocessing.sequence.pad_sequences(train_data,\n",
    "                                                        value=word_index[\"<PAD>\"],\n",
    "                                                        padding='post',\n",
    "                                                        maxlen=256)\n",
    "\n",
    "test_data = keras.preprocessing.sequence.pad_sequences(test_data,\n",
    "                                                       value=word_index[\"<PAD>\"],\n",
    "                                                       padding='post',\n",
    "                                                       maxlen=256)"
   ]
  },
  {
   "cell_type": "code",
   "execution_count": 32,
   "metadata": {},
   "outputs": [
    {
     "name": "stdout",
     "output_type": "stream",
     "text": [
      "_________________________________________________________________\n",
      "Layer (type)                 Output Shape              Param #   \n",
      "=================================================================\n",
      "embedding_1 (Embedding)      (None, None, 16)          160000    \n",
      "_________________________________________________________________\n",
      "global_average_pooling1d_1 ( (None, 16)                0         \n",
      "_________________________________________________________________\n",
      "dense_2 (Dense)              (None, 16)                272       \n",
      "_________________________________________________________________\n",
      "dense_3 (Dense)              (None, 1)                 17        \n",
      "=================================================================\n",
      "Total params: 160,289\n",
      "Trainable params: 160,289\n",
      "Non-trainable params: 0\n",
      "_________________________________________________________________\n"
     ]
    }
   ],
   "source": [
    " #input shape is the vocabulary count used for the movie reviews (10,000 words)\n",
    "vocab_size = 10000\n",
    "\n",
    "model = keras.Sequential()\n",
    "model.add(keras.layers.Embedding(vocab_size, 16))\n",
    "model.add(keras.layers.GlobalAveragePooling1D())\n",
    "model.add(keras.layers.Dense(16, activation=tf.nn.relu))\n",
    "model.add(keras.layers.Dense(1, activation=tf.nn.sigmoid))\n",
    "\n",
    "model.summary()\n"
   ]
  },
  {
   "cell_type": "code",
   "execution_count": 34,
   "metadata": {},
   "outputs": [],
   "source": [
    "model.compile(optimizer='adam',\n",
    "              loss='binary_crossentropy',\n",
    "              metrics=['acc'])"
   ]
  },
  {
   "cell_type": "code",
   "execution_count": 35,
   "metadata": {},
   "outputs": [],
   "source": [
    "x_val = train_data[:10000]\n",
    "partial_x_train = train_data[10000:]\n",
    "\n",
    "y_val = train_labels[:10000]\n",
    "partial_y_train = train_labels[10000:]"
   ]
  },
  {
   "cell_type": "code",
   "execution_count": 36,
   "metadata": {},
   "outputs": [
    {
     "name": "stderr",
     "output_type": "stream",
     "text": [
      "/home/user/anaconda2/lib/python2.7/site-packages/tensorflow/python/ops/gradients_impl.py:108: UserWarning: Converting sparse IndexedSlices to a dense Tensor of unknown shape. This may consume a large amount of memory.\n",
      "  \"Converting sparse IndexedSlices to a dense Tensor of unknown shape. \"\n"
     ]
    },
    {
     "name": "stdout",
     "output_type": "stream",
     "text": [
      "Train on 15000 samples, validate on 10000 samples\n",
      "Epoch 1/40\n",
      "15000/15000 [==============================] - 1s 70us/step - loss: 0.7903 - acc: 0.5035 - val_loss: 0.7049 - val_acc: 0.4947\n",
      "Epoch 2/40\n",
      "15000/15000 [==============================] - 1s 37us/step - loss: 0.6929 - acc: 0.5189 - val_loss: 0.6905 - val_acc: 0.5168\n",
      "Epoch 3/40\n",
      "15000/15000 [==============================] - 1s 37us/step - loss: 0.6893 - acc: 0.5711 - val_loss: 0.6886 - val_acc: 0.5797\n",
      "Epoch 4/40\n",
      "15000/15000 [==============================] - 1s 37us/step - loss: 0.6868 - acc: 0.6609 - val_loss: 0.6862 - val_acc: 0.6703\n",
      "Epoch 5/40\n",
      "15000/15000 [==============================] - 1s 37us/step - loss: 0.6841 - acc: 0.6554 - val_loss: 0.6837 - val_acc: 0.7003\n",
      "Epoch 6/40\n",
      "15000/15000 [==============================] - 1s 37us/step - loss: 0.6812 - acc: 0.7422 - val_loss: 0.6807 - val_acc: 0.7449\n",
      "Epoch 7/40\n",
      "15000/15000 [==============================] - 1s 37us/step - loss: 0.6777 - acc: 0.7433 - val_loss: 0.6775 - val_acc: 0.7333\n",
      "Epoch 8/40\n",
      "15000/15000 [==============================] - 1s 39us/step - loss: 0.6734 - acc: 0.7500 - val_loss: 0.6726 - val_acc: 0.7432\n",
      "Epoch 9/40\n",
      "15000/15000 [==============================] - 1s 37us/step - loss: 0.6672 - acc: 0.7487 - val_loss: 0.6664 - val_acc: 0.7287\n",
      "Epoch 10/40\n",
      "15000/15000 [==============================] - 1s 38us/step - loss: 0.6599 - acc: 0.7629 - val_loss: 0.6590 - val_acc: 0.7558\n",
      "Epoch 11/40\n",
      "15000/15000 [==============================] - 1s 38us/step - loss: 0.6516 - acc: 0.7603 - val_loss: 0.6503 - val_acc: 0.7584\n",
      "Epoch 12/40\n",
      "15000/15000 [==============================] - 1s 39us/step - loss: 0.6407 - acc: 0.7829 - val_loss: 0.6396 - val_acc: 0.7709\n",
      "Epoch 13/40\n",
      "15000/15000 [==============================] - 1s 39us/step - loss: 0.6274 - acc: 0.7849 - val_loss: 0.6281 - val_acc: 0.7630\n",
      "Epoch 14/40\n",
      "15000/15000 [==============================] - 1s 38us/step - loss: 0.6118 - acc: 0.7957 - val_loss: 0.6115 - val_acc: 0.7876\n",
      "Epoch 15/40\n",
      "15000/15000 [==============================] - 1s 37us/step - loss: 0.5930 - acc: 0.8017 - val_loss: 0.5924 - val_acc: 0.7921\n",
      "Epoch 16/40\n",
      "15000/15000 [==============================] - 1s 44us/step - loss: 0.5716 - acc: 0.8077 - val_loss: 0.5718 - val_acc: 0.7950\n",
      "Epoch 17/40\n",
      "15000/15000 [==============================] - 1s 42us/step - loss: 0.5476 - acc: 0.8157 - val_loss: 0.5500 - val_acc: 0.8036\n",
      "Epoch 18/40\n",
      "15000/15000 [==============================] - 1s 38us/step - loss: 0.5225 - acc: 0.8263 - val_loss: 0.5267 - val_acc: 0.8106\n",
      "Epoch 19/40\n",
      "15000/15000 [==============================] - 1s 38us/step - loss: 0.4967 - acc: 0.8315 - val_loss: 0.5035 - val_acc: 0.8201\n",
      "Epoch 20/40\n",
      "15000/15000 [==============================] - 1s 37us/step - loss: 0.4714 - acc: 0.8409 - val_loss: 0.4808 - val_acc: 0.8237\n",
      "Epoch 21/40\n",
      "15000/15000 [==============================] - 1s 38us/step - loss: 0.4460 - acc: 0.8485 - val_loss: 0.4589 - val_acc: 0.8337\n",
      "Epoch 22/40\n",
      "15000/15000 [==============================] - 1s 38us/step - loss: 0.4222 - acc: 0.8579 - val_loss: 0.4384 - val_acc: 0.8414\n",
      "Epoch 23/40\n",
      "15000/15000 [==============================] - 1s 37us/step - loss: 0.4001 - acc: 0.8657 - val_loss: 0.4199 - val_acc: 0.8454\n",
      "Epoch 24/40\n",
      "15000/15000 [==============================] - 1s 38us/step - loss: 0.3794 - acc: 0.8719 - val_loss: 0.4029 - val_acc: 0.8512\n",
      "Epoch 25/40\n",
      "15000/15000 [==============================] - 1s 38us/step - loss: 0.3608 - acc: 0.8784 - val_loss: 0.3881 - val_acc: 0.8546\n",
      "Epoch 26/40\n",
      "15000/15000 [==============================] - 1s 38us/step - loss: 0.3441 - acc: 0.8841 - val_loss: 0.3751 - val_acc: 0.8575\n",
      "Epoch 27/40\n",
      "15000/15000 [==============================] - 1s 37us/step - loss: 0.3292 - acc: 0.8871 - val_loss: 0.3637 - val_acc: 0.8612\n",
      "Epoch 28/40\n",
      "15000/15000 [==============================] - 1s 38us/step - loss: 0.3154 - acc: 0.8916 - val_loss: 0.3536 - val_acc: 0.8643\n",
      "Epoch 29/40\n",
      "15000/15000 [==============================] - 1s 39us/step - loss: 0.3033 - acc: 0.8944 - val_loss: 0.3456 - val_acc: 0.8665\n",
      "Epoch 30/40\n",
      "15000/15000 [==============================] - 1s 38us/step - loss: 0.2930 - acc: 0.8963 - val_loss: 0.3377 - val_acc: 0.8688\n",
      "Epoch 31/40\n",
      "15000/15000 [==============================] - 1s 38us/step - loss: 0.2823 - acc: 0.9007 - val_loss: 0.3316 - val_acc: 0.8709\n",
      "Epoch 32/40\n",
      "15000/15000 [==============================] - 1s 46us/step - loss: 0.2737 - acc: 0.9025 - val_loss: 0.3258 - val_acc: 0.8734\n",
      "Epoch 33/40\n",
      "15000/15000 [==============================] - 1s 37us/step - loss: 0.2645 - acc: 0.9057 - val_loss: 0.3208 - val_acc: 0.8757\n",
      "Epoch 34/40\n",
      "15000/15000 [==============================] - 1s 41us/step - loss: 0.2567 - acc: 0.9086 - val_loss: 0.3166 - val_acc: 0.8762\n",
      "Epoch 35/40\n",
      "15000/15000 [==============================] - 1s 37us/step - loss: 0.2498 - acc: 0.9103 - val_loss: 0.3125 - val_acc: 0.8782\n",
      "Epoch 36/40\n",
      "15000/15000 [==============================] - 1s 37us/step - loss: 0.2422 - acc: 0.9129 - val_loss: 0.3091 - val_acc: 0.8781\n",
      "Epoch 37/40\n",
      "15000/15000 [==============================] - 1s 36us/step - loss: 0.2357 - acc: 0.9157 - val_loss: 0.3060 - val_acc: 0.8789\n",
      "Epoch 38/40\n",
      "15000/15000 [==============================] - 1s 35us/step - loss: 0.2296 - acc: 0.9180 - val_loss: 0.3031 - val_acc: 0.8795\n",
      "Epoch 39/40\n",
      "15000/15000 [==============================] - 1s 38us/step - loss: 0.2233 - acc: 0.9205 - val_loss: 0.3005 - val_acc: 0.8809\n",
      "Epoch 40/40\n",
      "15000/15000 [==============================] - 1s 36us/step - loss: 0.2177 - acc: 0.9226 - val_loss: 0.2982 - val_acc: 0.8814\n"
     ]
    }
   ],
   "source": [
    "history = model.fit(partial_x_train,\n",
    "                    partial_y_train,\n",
    "                    epochs=40,\n",
    "                    batch_size=512,\n",
    "                    validation_data=(x_val, y_val),\n",
    "                    verbose=1)"
   ]
  },
  {
   "cell_type": "code",
   "execution_count": 38,
   "metadata": {},
   "outputs": [
    {
     "name": "stdout",
     "output_type": "stream",
     "text": [
      "25000/25000 [==============================] - 0s 17us/step\n",
      "[0.31122433983802794, 0.87224]\n"
     ]
    }
   ],
   "source": [
    "results = model.evaluate(test_data, test_labels)\n",
    "\n",
    "print(results)"
   ]
  },
  {
   "cell_type": "code",
   "execution_count": 40,
   "metadata": {},
   "outputs": [
    {
     "data": {
      "text/plain": [
       "['acc', 'loss', 'val_acc', 'val_loss']"
      ]
     },
     "execution_count": 40,
     "metadata": {},
     "output_type": "execute_result"
    }
   ],
   "source": [
    "history_dict = history.history\n",
    "history_dict.keys()"
   ]
  },
  {
   "cell_type": "code",
   "execution_count": 42,
   "metadata": {},
   "outputs": [
    {
     "data": {
      "image/png": "[encoded data removed]",
      "text/plain": [
       "<Figure size 432x288 with 1 Axes>"
      ]
     },
     "metadata": {
      "needs_background": "light"
     },
     "output_type": "display_data"
    }
   ],
   "source": [
    "import matplotlib.pyplot as plt\n",
    "\n",
    "acc = history_dict['acc']\n",
    "val_acc = history_dict['val_acc']\n",
    "loss = history_dict['loss']\n",
    "val_loss = history_dict['val_loss']\n",
    "\n",
    "epochs = range(1, len(acc) + 1)\n",
    "\n",
    "# \"bo\" is for \"blue dot\"\n",
    "plt.plot(epochs, loss, 'bo', label='Training loss')\n",
    "# b is for \"solid blue line\"\n",
    "plt.plot(epochs, val_loss, 'b', label='Validation loss')\n",
    "plt.title('Training and validation loss')\n",
    "plt.xlabel('Epochs')\n",
    "plt.ylabel('Loss')\n",
    "plt.legend()\n",
    "\n",
    "plt.show()\n"
   ]
  },
  {
   "cell_type": "code",
   "execution_count": null,
   "metadata": {},
   "outputs": [],
   "source": [
    "plt.clf()   # clear figure\n",
    "\n",
    "plt.plot(epochs, acc, 'bo', label='Training acc')\n",
    "plt.plot(epochs, val_acc, 'b', label='Validation acc')\n",
    "plt.title('Training and validation accuracy')\n",
    "plt.xlabel('Epochs')\n",
    "plt.ylabel('Accuracy')\n",
    "plt.legend()\n",
    "\n",
    "plt.show()"
   ]
  }
 ],
 "metadata": {
  "kernelspec": {
   "display_name": "Python 2",
   "language": "python",
   "name": "python2"
  },
  "language_info": {
   "codemirror_mode": {
    "name": "ipython",
    "version": 2
   },
   "file_extension": ".py",
   "mimetype": "text/x-python",
   "name": "python",
   "nbconvert_exporter": "python",
   "pygments_lexer": "ipython2",
   "version": "2.7.15"
  }
 },
 "nbformat": 4,
 "nbformat_minor": 2
}
